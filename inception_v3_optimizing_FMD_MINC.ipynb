{
 "cells": [
  {
   "cell_type": "markdown",
   "metadata": {
    "id": "T0z16UzWNPgi"
   },
   "source": [
    "# Setup environment\n",
    "\n"
   ]
  },
  {
   "cell_type": "code",
   "execution_count": null,
   "metadata": {
    "id": "hG-I5VNEM57B"
   },
   "outputs": [],
   "source": [
    "import os\n",
    "from tqdm import tqdm\n",
    "import cv2\n",
    "import numpy as np\n",
    "from keras.preprocessing.image import ImageDataGenerator\n",
    "from google.colab import drive\n",
    "from keras.applications.inception_v3 import InceptionV3, preprocess_input\n",
    "from keras import optimizers\n",
    "from keras.models import Sequential, Model \n",
    "from keras.layers import Dropout, Flatten, Dense, GlobalAveragePooling2D\n",
    "from keras.callbacks import ModelCheckpoint, EarlyStopping, ReduceLROnPlateau\n",
    "from keras.optimizers import SGD, Adam\n",
    "from sklearn.utils import shuffle"
   ]
  },
  {
   "cell_type": "code",
   "execution_count": null,
   "metadata": {
    "colab": {
     "base_uri": "https://localhost:8080/"
    },
    "executionInfo": {
     "elapsed": 19530,
     "status": "ok",
     "timestamp": 1667652613640,
     "user": {
      "displayName": "li hy",
      "userId": "07968085488592641656"
     },
     "user_tz": -480
    },
    "id": "5kJPPndxmlBG",
    "outputId": "61bb7ef3-26af-497b-ea8a-3c9c5d1f34aa"
   },
   "outputs": [
    {
     "name": "stdout",
     "output_type": "stream",
     "text": [
      "Mounted at /content/gdrive\n"
     ]
    }
   ],
   "source": [
    "drive.mount(\"/content/gdrive\")\n",
    "os.chdir('gdrive/MyDrive')\n",
    "if not os.path.exists('CZ4042_project'):\n",
    "    os.makedirs('CZ4042_project')\n",
    "os.chdir('CZ4042_project')"
   ]
  },
  {
   "cell_type": "markdown",
   "metadata": {
    "id": "_YdA3VdDuw6a"
   },
   "source": [
    "# Data acquisition\n",
    "\n",
    "Use obtain_fmd_minc_dataset.ipynb on colab to download the FMD and MINC data to drive"
   ]
  },
  {
   "cell_type": "markdown",
   "metadata": {
    "id": "6OhJ2mFDNN1p"
   },
   "source": [
    "# Load FMD data\n",
    "\n"
   ]
  },
  {
   "cell_type": "code",
   "execution_count": null,
   "metadata": {
    "colab": {
     "base_uri": "https://localhost:8080/"
    },
    "executionInfo": {
     "elapsed": 19426,
     "status": "ok",
     "timestamp": 1667652633064,
     "user": {
      "displayName": "li hy",
      "userId": "07968085488592641656"
     },
     "user_tz": -480
    },
    "id": "PwIA_MeHovve",
    "outputId": "e7796f0a-96cf-44a9-a6e7-d24ea2827e19"
   },
   "outputs": [
    {
     "name": "stdout",
     "output_type": "stream",
     "text": [
      "load 100/101 images from foliage\n",
      "load 100/100 images from leather\n",
      "load 100/100 images from glass\n",
      "load 100/100 images from metal\n",
      "load 100/100 images from paper\n",
      "load 100/100 images from plastic\n",
      "load 100/100 images from water\n",
      "load 100/100 images from stone\n",
      "load 100/100 images from wood\n",
      "load 100/102 images from fabric\n"
     ]
    }
   ],
   "source": [
    "x_train_fmd = []\n",
    "y_train_fmd = []\n",
    "\n",
    "label_map = {   \n",
    "                \"fabric\":0,\n",
    "                \"foliage\":1,\n",
    "                \"glass\":2,\n",
    "                \"leather\":3,\n",
    "                \"metal\":4,\n",
    "                \"paper\":5,\n",
    "                \"plastic\":6,\n",
    "                \"stone\":7,\n",
    "                \"water\":8,\n",
    "                \"wood\":9,\n",
    "             }\n",
    "\n",
    "dim = 256\n",
    "dirs = os.listdir(\"FMD/image\")\n",
    "for class_dir in dirs:\n",
    "  class_dir_path = os.path.join(\"FMD/image/\", class_dir)\n",
    "  num_loaded = 0\n",
    "  for img_name in os.listdir(class_dir_path):\n",
    "    if img_name[-3:] != 'jpg':\n",
    "      continue\n",
    "    img_path = os.path.join(class_dir_path, img_name)\n",
    "    img = cv2.imread(img_path)\n",
    "    targets = np.zeros(10)\n",
    "    targets[label_map[class_dir]] = 1 \n",
    "    x_train_fmd.append(cv2.resize(img, (dim, dim)))\n",
    "    y_train_fmd.append(targets)\n",
    "    num_loaded += 1\n",
    "  print(\"load {}/{} images from {}\".format(num_loaded, len(os.listdir(class_dir_path)), class_dir))\n",
    "\n",
    "y_train_fmd = np.array(y_train_fmd, np.uint8)\n",
    "x_train_fmd = np.array(x_train_fmd, np.float32)"
   ]
  },
  {
   "cell_type": "markdown",
   "metadata": {
    "id": "h4pQ-c1BNrLK"
   },
   "source": [
    "# Split FMD data into train, val and test"
   ]
  },
  {
   "cell_type": "code",
   "execution_count": null,
   "metadata": {
    "colab": {
     "base_uri": "https://localhost:8080/"
    },
    "executionInfo": {
     "elapsed": 1256,
     "status": "ok",
     "timestamp": 1667652634309,
     "user": {
      "displayName": "li hy",
      "userId": "07968085488592641656"
     },
     "user_tz": -480
    },
    "id": "2LY-g8DeueNR",
    "outputId": "0da1af35-c11f-4a7b-986f-44c1bd4b9edb"
   },
   "outputs": [
    {
     "name": "stdout",
     "output_type": "stream",
     "text": [
      "Using 700 for training and 300 for validation and test\n"
     ]
    }
   ],
   "source": [
    "from sklearn.model_selection import StratifiedShuffleSplit\n",
    "sss = StratifiedShuffleSplit(n_splits=1, test_size=0.3, random_state=42) # StratifiedShuffleSplit ensures a balanced split for all the classes\n",
    "for train_index, none_train_index in sss.split(x_train_fmd, y_train_fmd):\n",
    "    print(\"Using {} for training and {} for validation and test\".format(len(train_index), len(none_train_index)))\n",
    "    x_train_fmd, x_valid_test_fmd = x_train_fmd[train_index], x_train_fmd[none_train_index]\n",
    "    y_train_fmd, y_valid_test_fmd = y_train_fmd[train_index], y_train_fmd[none_train_index]"
   ]
  },
  {
   "cell_type": "code",
   "execution_count": null,
   "metadata": {
    "colab": {
     "base_uri": "https://localhost:8080/"
    },
    "executionInfo": {
     "elapsed": 354,
     "status": "ok",
     "timestamp": 1667652634662,
     "user": {
      "displayName": "li hy",
      "userId": "07968085488592641656"
     },
     "user_tz": -480
    },
    "id": "G8duPrOLxlFV",
    "outputId": "98a1f2d0-4591-4939-8f5e-535b6316c21e"
   },
   "outputs": [
    {
     "name": "stdout",
     "output_type": "stream",
     "text": [
      "Using 201 for val and 99 for test\n"
     ]
    }
   ],
   "source": [
    "sss = StratifiedShuffleSplit(n_splits=1, test_size=0.33, random_state=42) # StratifiedShuffleSplit ensures a balanced split for all the classes\n",
    "for val_index, test_index in sss.split(x_valid_test_fmd, y_valid_test_fmd):\n",
    "    print(\"Using {} for val and {} for test\".format(len(val_index), len(test_index)))\n",
    "    x_val_fmd, x_test_fmd = x_valid_test_fmd[val_index], x_valid_test_fmd[test_index]\n",
    "    y_val_fmd, y_test_fmd = y_valid_test_fmd[val_index], y_valid_test_fmd[test_index]"
   ]
  },
  {
   "cell_type": "markdown",
   "metadata": {
    "id": "gOpAQDDuB5Xc"
   },
   "source": [
    "# Load MINC dataset\n",
    "\n"
   ]
  },
  {
   "cell_type": "code",
   "execution_count": null,
   "metadata": {
    "colab": {
     "base_uri": "https://localhost:8080/"
    },
    "executionInfo": {
     "elapsed": 545767,
     "status": "ok",
     "timestamp": 1667653180428,
     "user": {
      "displayName": "li hy",
      "userId": "07968085488592641656"
     },
     "user_tz": -480
    },
    "id": "nTxLLa-g3d0_",
    "outputId": "175de8fe-0968-4a84-9902-324bb6144746"
   },
   "outputs": [
    {
     "name": "stdout",
     "output_type": "stream",
     "text": [
      "load 100/2500 images from paper\n",
      "load 100/2500 images from plastic\n",
      "load 100/2500 images from stone\n",
      "load 100/2500 images from water\n",
      "load 100/2500 images from wood\n",
      "load 100/2500 images from fabric\n",
      "load 100/2500 images from foliage\n",
      "load 100/2500 images from glass\n",
      "load 100/2500 images from leather\n",
      "load 100/2500 images from metal\n"
     ]
    }
   ],
   "source": [
    "x_train_minc = []\n",
    "y_train_minc = []\n",
    "num_to_load_per_class = 100 # there are 2.5k images per class, we only use 100 here\n",
    "\n",
    "dirs = os.listdir(\"MINC/minc-2500/images/\")\n",
    "for class_dir in dirs:\n",
    "  if class_dir in label_map.keys():\n",
    "    class_dir_path = os.path.join(\"MINC/minc-2500/images/\", class_dir)\n",
    "    num_loaded = 0\n",
    "    for img_name in os.listdir(class_dir_path):\n",
    "      if img_name[-3:] != 'jpg':\n",
    "        continue\n",
    "      img_path = os.path.join(class_dir_path, img_name)\n",
    "      img = cv2.imread(img_path)\n",
    "      targets = np.zeros(10)\n",
    "      targets[label_map[class_dir]] = 1 \n",
    "      x_train_minc.append(cv2.resize(img, (dim, dim)))\n",
    "      y_train_minc.append(targets)\n",
    "      num_loaded += 1\n",
    "      if num_loaded == num_to_load_per_class:\n",
    "        break\n",
    "    print(\"load {}/{} images from {}\".format(num_loaded, len(os.listdir(class_dir_path)), class_dir))\n",
    "\n",
    "y_train_minc = np.array(y_train_minc, np.uint8)\n",
    "x_train_minc = np.array(x_train_minc, np.float32)"
   ]
  },
  {
   "cell_type": "markdown",
   "metadata": {
    "id": "v_95HLgZdBxk"
   },
   "source": [
    "# Split MINC data into train, val and test"
   ]
  },
  {
   "cell_type": "code",
   "execution_count": null,
   "metadata": {
    "colab": {
     "base_uri": "https://localhost:8080/"
    },
    "executionInfo": {
     "elapsed": 1366,
     "status": "ok",
     "timestamp": 1667653181789,
     "user": {
      "displayName": "li hy",
      "userId": "07968085488592641656"
     },
     "user_tz": -480
    },
    "id": "A-w-TG1HdBdJ",
    "outputId": "0949e48b-e8b2-4dd9-b287-5759403e31f7"
   },
   "outputs": [
    {
     "name": "stdout",
     "output_type": "stream",
     "text": [
      "Using 700 for training and 300 for validation and test\n"
     ]
    }
   ],
   "source": [
    "sss = StratifiedShuffleSplit(n_splits=1, test_size=0.3, random_state=42) # StratifiedShuffleSplit ensures a balanced split for all the classes\n",
    "for train_index, none_train_index in sss.split(x_train_minc, y_train_minc):\n",
    "    print(\"Using {} for training and {} for validation and test\".format(len(train_index), len(none_train_index)))\n",
    "    x_train_minc, x_valid_test_minc = x_train_minc[train_index], x_train_minc[none_train_index]\n",
    "    y_train_minc, y_valid_test_minc = y_train_minc[train_index], y_train_minc[none_train_index]"
   ]
  },
  {
   "cell_type": "code",
   "execution_count": null,
   "metadata": {
    "colab": {
     "base_uri": "https://localhost:8080/"
    },
    "executionInfo": {
     "elapsed": 3,
     "status": "ok",
     "timestamp": 1667653181789,
     "user": {
      "displayName": "li hy",
      "userId": "07968085488592641656"
     },
     "user_tz": -480
    },
    "id": "PXE0VaoedA1R",
    "outputId": "e3dd399e-9bb0-4825-8e95-a6e12b63d85f"
   },
   "outputs": [
    {
     "name": "stdout",
     "output_type": "stream",
     "text": [
      "Using 201 for val and 99 for test\n"
     ]
    }
   ],
   "source": [
    "sss = StratifiedShuffleSplit(n_splits=1, test_size=0.33, random_state=42) # StratifiedShuffleSplit ensures a balanced split for all the classes\n",
    "for val_index, test_index in sss.split(x_valid_test_minc, y_valid_test_minc):\n",
    "    print(\"Using {} for val and {} for test\".format(len(val_index), len(test_index)))\n",
    "    x_val_minc, x_test_minc = x_valid_test_minc[val_index], x_valid_test_minc[test_index]\n",
    "    y_val_minc, y_test_minc = y_valid_test_minc[val_index], y_valid_test_minc[test_index]"
   ]
  },
  {
   "cell_type": "markdown",
   "metadata": {
    "id": "NlnmIamPB74y"
   },
   "source": [
    "# Merge MINC and FMD train/val data"
   ]
  },
  {
   "cell_type": "code",
   "execution_count": null,
   "metadata": {
    "id": "TAMuUeLa8zRn"
   },
   "outputs": [],
   "source": [
    "# merge train data\n",
    "x_train = np.concatenate((x_train_fmd, x_train_minc))\n",
    "y_train = np.concatenate((y_train_fmd, y_train_minc))\n",
    "x_train, y_train = shuffle(x_train, y_train, random_state=7)\n",
    "del y_train_minc\n",
    "del x_train_minc\n",
    "del y_train_fmd\n",
    "del x_train_fmd\n",
    "\n",
    "# merge val data\n",
    "x_val = np.concatenate((x_val_fmd, x_val_minc))\n",
    "y_val = np.concatenate((y_val_fmd, y_val_minc))\n",
    "x_val, y_val = shuffle(x_val, y_val, random_state=7)\n",
    "del y_val_minc\n",
    "del x_val_minc\n",
    "del y_val_fmd\n",
    "del x_val_fmd"
   ]
  },
  {
   "cell_type": "markdown",
   "metadata": {
    "id": "kHODTo4LN0ei"
   },
   "source": [
    "# Data augmentation"
   ]
  },
  {
   "cell_type": "code",
   "execution_count": null,
   "metadata": {
    "id": "8tSEQYWt0BTs"
   },
   "outputs": [],
   "source": [
    "train_datagen = ImageDataGenerator(rescale=1./255,\n",
    "                            #height_shift_range=0.2,\n",
    "                            #width_shift_range=0.2,\n",
    "                            #horizontal_flip=True,\n",
    "                            rotation_range=30,\n",
    "                            #brightness_range=[0.7,1.3],\n",
    "                            zoom_range=0.3)\n",
    "\n",
    "val_datagen = ImageDataGenerator(rescale=1./255)"
   ]
  },
  {
   "cell_type": "markdown",
   "metadata": {
    "id": "13_5Ak0gYJXz"
   },
   "source": [
    "# Load pretrained InceptionV3 (imagenet)"
   ]
  },
  {
   "cell_type": "code",
   "execution_count": null,
   "metadata": {
    "colab": {
     "base_uri": "https://localhost:8080/"
    },
    "executionInfo": {
     "elapsed": 2646,
     "status": "ok",
     "timestamp": 1667651385927,
     "user": {
      "displayName": "li hy",
      "userId": "07968085488592641656"
     },
     "user_tz": -480
    },
    "id": "wwG1yfu6R-ON",
    "outputId": "119ff7e5-adba-45d9-a97d-103df413724c"
   },
   "outputs": [
    {
     "name": "stdout",
     "output_type": "stream",
     "text": [
      "number of layers: 311\n"
     ]
    }
   ],
   "source": [
    "inc_model = InceptionV3(weights='imagenet',\n",
    "                        include_top=False,\n",
    "                        input_shape=(dim, dim, 3))\n",
    "\n",
    "print(\"number of layers:\", len(inc_model.layers))\n",
    "\n",
    "# decide whether to freeze pretrained weights\n",
    "for layer in inc_model.layers:\n",
    "    layer.trainable = True"
   ]
  },
  {
   "cell_type": "markdown",
   "metadata": {
    "id": "mC5A1lrya3PO"
   },
   "source": [
    "# Append custom Layers"
   ]
  },
  {
   "cell_type": "code",
   "execution_count": null,
   "metadata": {
    "id": "GjUIGAnXSYWG"
   },
   "outputs": [],
   "source": [
    "x = inc_model.output\n",
    "x = GlobalAveragePooling2D()(x)\n",
    "x = Dense(1024, activation=\"relu\")(x)\n",
    "x = Dropout(0.5)(x)\n",
    "x = Dense(512, activation=\"relu\")(x)\n",
    "predictions = Dense(10, activation=\"softmax\")(x)\n",
    "model_ = Model(inputs=inc_model.input, outputs=predictions)"
   ]
  },
  {
   "cell_type": "markdown",
   "metadata": {
    "id": "oVDL18PjbDro"
   },
   "source": [
    "# Fine tuning"
   ]
  },
  {
   "cell_type": "code",
   "execution_count": null,
   "metadata": {
    "id": "9RxOJP0GU4_9"
   },
   "outputs": [],
   "source": [
    "epochs = 100\n",
    "learning_rate = 0.001\n",
    "batch_size = 128\n",
    "\n",
    "callbacks = [ EarlyStopping(monitor='val_loss', patience=5, verbose=1), \n",
    "              ModelCheckpoint(filepath='weights.best.inc.optimized_fmd_minc.hdf5', verbose=1, save_best_only=True),\n",
    "             #ReduceLROnPlateau(monitor='val_loss', factor=0.1, patience=3, verbose=1, mode='auto', min_delta=0.0001, cooldown=0, min_lr=0)\n",
    "            ]"
   ]
  },
  {
   "cell_type": "code",
   "execution_count": null,
   "metadata": {
    "id": "Kh1uz2t1SnEo"
   },
   "outputs": [],
   "source": [
    "# compile the model\n",
    "model_.compile(optimizer=SGD(lr=learning_rate, momentum=0.9)\n",
    "                    , loss='categorical_crossentropy'\n",
    "                    , metrics=['accuracy'])"
   ]
  },
  {
   "cell_type": "code",
   "execution_count": null,
   "metadata": {
    "colab": {
     "base_uri": "https://localhost:8080/"
    },
    "executionInfo": {
     "elapsed": 885815,
     "status": "ok",
     "timestamp": 1667652271739,
     "user": {
      "displayName": "li hy",
      "userId": "07968085488592641656"
     },
     "user_tz": -480
    },
    "id": "5MkTnPAZUiGq",
    "outputId": "602cddb9-f88d-421f-ef41-3d774723f410"
   },
   "outputs": [
    {
     "name": "stderr",
     "output_type": "stream",
     "text": [
      "/usr/local/lib/python3.7/dist-packages/ipykernel_launcher.py:8: UserWarning: `Model.fit_generator` is deprecated and will be removed in a future version. Please use `Model.fit`, which supports generators.\n",
      "  \n"
     ]
    },
    {
     "name": "stdout",
     "output_type": "stream",
     "text": [
      "Epoch 1/100\n",
      "11/10 [==============================] - ETA: 0s - loss: 2.3765 - accuracy: 0.1036\n",
      "Epoch 1: val_loss improved from inf to 2.28691, saving model to weights.best.inc.optimized_fmd_minc.hdf5\n",
      "10/10 [==============================] - 33s 2s/step - loss: 2.3765 - accuracy: 0.1036 - val_loss: 2.2869 - val_accuracy: 0.1443\n",
      "Epoch 2/100\n",
      "11/10 [==============================] - ETA: 0s - loss: 2.3013 - accuracy: 0.1379\n",
      "Epoch 2: val_loss improved from 2.28691 to 2.20184, saving model to weights.best.inc.optimized_fmd_minc.hdf5\n",
      "10/10 [==============================] - 28s 3s/step - loss: 2.3013 - accuracy: 0.1379 - val_loss: 2.2018 - val_accuracy: 0.2239\n",
      "Epoch 3/100\n",
      "11/10 [==============================] - ETA: 0s - loss: 2.2148 - accuracy: 0.1929\n",
      "Epoch 3: val_loss improved from 2.20184 to 2.12186, saving model to weights.best.inc.optimized_fmd_minc.hdf5\n",
      "10/10 [==============================] - 26s 2s/step - loss: 2.2148 - accuracy: 0.1929 - val_loss: 2.1219 - val_accuracy: 0.2811\n",
      "Epoch 4/100\n",
      "11/10 [==============================] - ETA: 0s - loss: 2.1241 - accuracy: 0.2657\n",
      "Epoch 4: val_loss improved from 2.12186 to 2.02872, saving model to weights.best.inc.optimized_fmd_minc.hdf5\n",
      "10/10 [==============================] - 26s 2s/step - loss: 2.1241 - accuracy: 0.2657 - val_loss: 2.0287 - val_accuracy: 0.3557\n",
      "Epoch 5/100\n",
      "11/10 [==============================] - ETA: 0s - loss: 2.0500 - accuracy: 0.3236\n",
      "Epoch 5: val_loss improved from 2.02872 to 1.93275, saving model to weights.best.inc.optimized_fmd_minc.hdf5\n",
      "10/10 [==============================] - 26s 2s/step - loss: 2.0500 - accuracy: 0.3236 - val_loss: 1.9328 - val_accuracy: 0.4328\n",
      "Epoch 6/100\n",
      "11/10 [==============================] - ETA: 0s - loss: 1.9591 - accuracy: 0.3750\n",
      "Epoch 6: val_loss improved from 1.93275 to 1.83764, saving model to weights.best.inc.optimized_fmd_minc.hdf5\n",
      "10/10 [==============================] - 26s 2s/step - loss: 1.9591 - accuracy: 0.3750 - val_loss: 1.8376 - val_accuracy: 0.4876\n",
      "Epoch 7/100\n",
      "11/10 [==============================] - ETA: 0s - loss: 1.8503 - accuracy: 0.4514\n",
      "Epoch 7: val_loss improved from 1.83764 to 1.73161, saving model to weights.best.inc.optimized_fmd_minc.hdf5\n",
      "10/10 [==============================] - 25s 2s/step - loss: 1.8503 - accuracy: 0.4514 - val_loss: 1.7316 - val_accuracy: 0.5348\n",
      "Epoch 8/100\n",
      "11/10 [==============================] - ETA: 0s - loss: 1.7181 - accuracy: 0.5171\n",
      "Epoch 8: val_loss improved from 1.73161 to 1.61611, saving model to weights.best.inc.optimized_fmd_minc.hdf5\n",
      "10/10 [==============================] - 26s 2s/step - loss: 1.7181 - accuracy: 0.5171 - val_loss: 1.6161 - val_accuracy: 0.5672\n",
      "Epoch 9/100\n",
      "11/10 [==============================] - ETA: 0s - loss: 1.5764 - accuracy: 0.5764\n",
      "Epoch 9: val_loss improved from 1.61611 to 1.50274, saving model to weights.best.inc.optimized_fmd_minc.hdf5\n",
      "10/10 [==============================] - 26s 2s/step - loss: 1.5764 - accuracy: 0.5764 - val_loss: 1.5027 - val_accuracy: 0.5995\n",
      "Epoch 10/100\n",
      "11/10 [==============================] - ETA: 0s - loss: 1.4484 - accuracy: 0.6050\n",
      "Epoch 10: val_loss improved from 1.50274 to 1.39394, saving model to weights.best.inc.optimized_fmd_minc.hdf5\n",
      "10/10 [==============================] - 28s 3s/step - loss: 1.4484 - accuracy: 0.6050 - val_loss: 1.3939 - val_accuracy: 0.6045\n",
      "Epoch 11/100\n",
      "11/10 [==============================] - ETA: 0s - loss: 1.2951 - accuracy: 0.6557\n",
      "Epoch 11: val_loss improved from 1.39394 to 1.27677, saving model to weights.best.inc.optimized_fmd_minc.hdf5\n",
      "10/10 [==============================] - 26s 2s/step - loss: 1.2951 - accuracy: 0.6557 - val_loss: 1.2768 - val_accuracy: 0.6493\n",
      "Epoch 12/100\n",
      "11/10 [==============================] - ETA: 0s - loss: 1.1688 - accuracy: 0.6857\n",
      "Epoch 12: val_loss improved from 1.27677 to 1.18340, saving model to weights.best.inc.optimized_fmd_minc.hdf5\n",
      "10/10 [==============================] - 26s 2s/step - loss: 1.1688 - accuracy: 0.6857 - val_loss: 1.1834 - val_accuracy: 0.6517\n",
      "Epoch 13/100\n",
      "11/10 [==============================] - ETA: 0s - loss: 1.0568 - accuracy: 0.7036\n",
      "Epoch 13: val_loss improved from 1.18340 to 1.10815, saving model to weights.best.inc.optimized_fmd_minc.hdf5\n",
      "10/10 [==============================] - 26s 2s/step - loss: 1.0568 - accuracy: 0.7036 - val_loss: 1.1081 - val_accuracy: 0.6567\n",
      "Epoch 14/100\n",
      "11/10 [==============================] - ETA: 0s - loss: 0.9459 - accuracy: 0.7479\n",
      "Epoch 14: val_loss improved from 1.10815 to 1.04439, saving model to weights.best.inc.optimized_fmd_minc.hdf5\n",
      "10/10 [==============================] - 25s 2s/step - loss: 0.9459 - accuracy: 0.7479 - val_loss: 1.0444 - val_accuracy: 0.6667\n",
      "Epoch 15/100\n",
      "11/10 [==============================] - ETA: 0s - loss: 0.8653 - accuracy: 0.7564\n",
      "Epoch 15: val_loss improved from 1.04439 to 0.99953, saving model to weights.best.inc.optimized_fmd_minc.hdf5\n",
      "10/10 [==============================] - 26s 2s/step - loss: 0.8653 - accuracy: 0.7564 - val_loss: 0.9995 - val_accuracy: 0.6716\n",
      "Epoch 16/100\n",
      "11/10 [==============================] - ETA: 0s - loss: 0.7801 - accuracy: 0.7786\n",
      "Epoch 16: val_loss improved from 0.99953 to 0.96843, saving model to weights.best.inc.optimized_fmd_minc.hdf5\n",
      "10/10 [==============================] - 26s 2s/step - loss: 0.7801 - accuracy: 0.7786 - val_loss: 0.9684 - val_accuracy: 0.6816\n",
      "Epoch 17/100\n",
      "11/10 [==============================] - ETA: 0s - loss: 0.7136 - accuracy: 0.7886\n",
      "Epoch 17: val_loss improved from 0.96843 to 0.94635, saving model to weights.best.inc.optimized_fmd_minc.hdf5\n",
      "10/10 [==============================] - 26s 2s/step - loss: 0.7136 - accuracy: 0.7886 - val_loss: 0.9463 - val_accuracy: 0.6891\n",
      "Epoch 18/100\n",
      "11/10 [==============================] - ETA: 0s - loss: 0.6296 - accuracy: 0.8193\n",
      "Epoch 18: val_loss improved from 0.94635 to 0.93181, saving model to weights.best.inc.optimized_fmd_minc.hdf5\n",
      "10/10 [==============================] - 26s 2s/step - loss: 0.6296 - accuracy: 0.8193 - val_loss: 0.9318 - val_accuracy: 0.6866\n",
      "Epoch 19/100\n",
      "11/10 [==============================] - ETA: 0s - loss: 0.5871 - accuracy: 0.8336\n",
      "Epoch 19: val_loss improved from 0.93181 to 0.91851, saving model to weights.best.inc.optimized_fmd_minc.hdf5\n",
      "10/10 [==============================] - 26s 2s/step - loss: 0.5871 - accuracy: 0.8336 - val_loss: 0.9185 - val_accuracy: 0.6990\n",
      "Epoch 20/100\n",
      "11/10 [==============================] - ETA: 0s - loss: 0.5462 - accuracy: 0.8414\n",
      "Epoch 20: val_loss improved from 0.91851 to 0.90733, saving model to weights.best.inc.optimized_fmd_minc.hdf5\n",
      "10/10 [==============================] - 26s 2s/step - loss: 0.5462 - accuracy: 0.8414 - val_loss: 0.9073 - val_accuracy: 0.6965\n",
      "Epoch 21/100\n",
      "11/10 [==============================] - ETA: 0s - loss: 0.4970 - accuracy: 0.8650\n",
      "Epoch 21: val_loss improved from 0.90733 to 0.89902, saving model to weights.best.inc.optimized_fmd_minc.hdf5\n",
      "10/10 [==============================] - 26s 2s/step - loss: 0.4970 - accuracy: 0.8650 - val_loss: 0.8990 - val_accuracy: 0.6891\n",
      "Epoch 22/100\n",
      "11/10 [==============================] - ETA: 0s - loss: 0.4566 - accuracy: 0.8679\n",
      "Epoch 22: val_loss improved from 0.89902 to 0.88278, saving model to weights.best.inc.optimized_fmd_minc.hdf5\n",
      "10/10 [==============================] - 26s 2s/step - loss: 0.4566 - accuracy: 0.8679 - val_loss: 0.8828 - val_accuracy: 0.7065\n",
      "Epoch 23/100\n",
      "11/10 [==============================] - ETA: 0s - loss: 0.4244 - accuracy: 0.8850\n",
      "Epoch 23: val_loss did not improve from 0.88278\n",
      "10/10 [==============================] - 23s 2s/step - loss: 0.4244 - accuracy: 0.8850 - val_loss: 0.8840 - val_accuracy: 0.7114\n",
      "Epoch 24/100\n",
      "11/10 [==============================] - ETA: 0s - loss: 0.3616 - accuracy: 0.9064\n",
      "Epoch 24: val_loss did not improve from 0.88278\n",
      "10/10 [==============================] - 23s 2s/step - loss: 0.3616 - accuracy: 0.9064 - val_loss: 0.8900 - val_accuracy: 0.7040\n",
      "Epoch 25/100\n",
      "11/10 [==============================] - ETA: 0s - loss: 0.3644 - accuracy: 0.8971\n",
      "Epoch 25: val_loss did not improve from 0.88278\n",
      "10/10 [==============================] - 24s 2s/step - loss: 0.3644 - accuracy: 0.8971 - val_loss: 0.8898 - val_accuracy: 0.7090\n",
      "Epoch 26/100\n",
      "11/10 [==============================] - ETA: 0s - loss: 0.3426 - accuracy: 0.9043\n",
      "Epoch 26: val_loss improved from 0.88278 to 0.87708, saving model to weights.best.inc.optimized_fmd_minc.hdf5\n",
      "10/10 [==============================] - 26s 2s/step - loss: 0.3426 - accuracy: 0.9043 - val_loss: 0.8771 - val_accuracy: 0.7090\n",
      "Epoch 27/100\n",
      "11/10 [==============================] - ETA: 0s - loss: 0.2802 - accuracy: 0.9243\n",
      "Epoch 27: val_loss did not improve from 0.87708\n",
      "10/10 [==============================] - 24s 2s/step - loss: 0.2802 - accuracy: 0.9243 - val_loss: 0.8771 - val_accuracy: 0.7189\n",
      "Epoch 28/100\n",
      "11/10 [==============================] - ETA: 0s - loss: 0.2590 - accuracy: 0.9400\n",
      "Epoch 28: val_loss did not improve from 0.87708\n",
      "10/10 [==============================] - 26s 2s/step - loss: 0.2590 - accuracy: 0.9400 - val_loss: 0.8817 - val_accuracy: 0.7164\n",
      "Epoch 29/100\n",
      "11/10 [==============================] - ETA: 0s - loss: 0.2589 - accuracy: 0.9314\n",
      "Epoch 29: val_loss did not improve from 0.87708\n",
      "10/10 [==============================] - 23s 2s/step - loss: 0.2589 - accuracy: 0.9314 - val_loss: 0.8890 - val_accuracy: 0.7164\n",
      "Epoch 30/100\n",
      "11/10 [==============================] - ETA: 0s - loss: 0.2165 - accuracy: 0.9493\n",
      "Epoch 30: val_loss did not improve from 0.87708\n",
      "10/10 [==============================] - 23s 2s/step - loss: 0.2165 - accuracy: 0.9493 - val_loss: 0.8987 - val_accuracy: 0.7164\n",
      "Epoch 31/100\n",
      "11/10 [==============================] - ETA: 0s - loss: 0.1945 - accuracy: 0.9486\n",
      "Epoch 31: val_loss did not improve from 0.87708\n",
      "10/10 [==============================] - 23s 2s/step - loss: 0.1945 - accuracy: 0.9486 - val_loss: 0.9076 - val_accuracy: 0.7114\n",
      "Epoch 31: early stopping\n"
     ]
    },
    {
     "data": {
      "text/plain": [
       "<keras.callbacks.History at 0x7fe4c48c5bd0>"
      ]
     },
     "execution_count": 129,
     "metadata": {},
     "output_type": "execute_result"
    }
   ],
   "source": [
    "# ------ TRAINING ------\n",
    "model_.fit_generator(train_datagen.flow(x_train, y_train, batch_size=batch_size),\n",
    "                    steps_per_epoch=len(x_train)/batch_size, \n",
    "                    validation_data=val_datagen.flow(x_val, y_val, batch_size=batch_size), \n",
    "                    validation_steps=len(x_val)/batch_size,\n",
    "                    callbacks=callbacks,\n",
    "                    epochs=epochs,\n",
    "                    verbose=1)"
   ]
  },
  {
   "cell_type": "code",
   "execution_count": null,
   "metadata": {
    "id": "bD02RIEI3y-m"
   },
   "outputs": [],
   "source": [
    "import matplotlib.pyplot as plt\n",
    "\n",
    "def plot_metric(model_, metric, save=False, save_path=None):\n",
    "    train_metrics = model_.history.history[metric]\n",
    "    val_metrics = model_.history.history['val_'+metric]\n",
    "    epochs = range(1, len(train_metrics) + 1)\n",
    "    plt.plot(epochs, train_metrics)\n",
    "    plt.plot(epochs, val_metrics)\n",
    "    plt.title('Training and validation '+ metric)\n",
    "    plt.xlabel(\"Epochs\")\n",
    "    plt.ylabel(metric)\n",
    "    plt.legend([\"train_\"+metric, 'val_'+metric])\n",
    "    if save:\n",
    "      plt.savefig(save_path)\n",
    "    plt.show()"
   ]
  },
  {
   "cell_type": "code",
   "execution_count": null,
   "metadata": {
    "colab": {
     "base_uri": "https://localhost:8080/",
     "height": 295
    },
    "executionInfo": {
     "elapsed": 550,
     "status": "ok",
     "timestamp": 1667652305994,
     "user": {
      "displayName": "li hy",
      "userId": "07968085488592641656"
     },
     "user_tz": -480
    },
    "id": "vOo-AKqZ4FPE",
    "outputId": "5da5e2ec-8d40-47bd-d62b-25fdd1060e7d"
   },
   "outputs": [
    {
     "data": {
      "image/png": "[encoded data removed]",
      "text/plain": [
       "<Figure size 432x288 with 1 Axes>"
      ]
     },
     "metadata": {
      "needs_background": "light"
     },
     "output_type": "display_data"
    }
   ],
   "source": [
    "plot_metric(model_, 'loss')"
   ]
  },
  {
   "cell_type": "code",
   "execution_count": null,
   "metadata": {
    "colab": {
     "base_uri": "https://localhost:8080/",
     "height": 295
    },
    "executionInfo": {
     "elapsed": 3,
     "status": "ok",
     "timestamp": 1667652306740,
     "user": {
      "displayName": "li hy",
      "userId": "07968085488592641656"
     },
     "user_tz": -480
    },
    "id": "PdeQSinl4ILE",
    "outputId": "a77d5bd4-1b9d-437b-e58e-99bbb9a261f6"
   },
   "outputs": [
    {
     "data": {
      "image/png": "[encoded data removed]",
      "text/plain": [
       "<Figure size 432x288 with 1 Axes>"
      ]
     },
     "metadata": {
      "needs_background": "light"
     },
     "output_type": "display_data"
    }
   ],
   "source": [
    "plot_metric(model_, 'accuracy')"
   ]
  },
  {
   "cell_type": "markdown",
   "metadata": {
    "id": "IgDljgiafNQZ"
   },
   "source": [
    "# Evaluation on test data"
   ]
  },
  {
   "cell_type": "code",
   "execution_count": null,
   "metadata": {
    "colab": {
     "base_uri": "https://localhost:8080/"
    },
    "executionInfo": {
     "elapsed": 3605,
     "status": "ok",
     "timestamp": 1667652327385,
     "user": {
      "displayName": "li hy",
      "userId": "07968085488592641656"
     },
     "user_tz": -480
    },
    "id": "2MSJxnYSfJzR",
    "outputId": "08592ad0-7cd8-4b2e-a07c-d2598ab6ff4f"
   },
   "outputs": [
    {
     "name": "stdout",
     "output_type": "stream",
     "text": [
      "1/1 [==============================] - 3s 3s/step - loss: 0.5621 - accuracy: 0.7778\n"
     ]
    },
    {
     "data": {
      "text/plain": [
       "[0.5620586276054382, 0.7777777910232544]"
      ]
     },
     "execution_count": 132,
     "metadata": {},
     "output_type": "execute_result"
    }
   ],
   "source": [
    "# evaluate on fmd test data\n",
    "model_.evaluate(val_datagen.flow(x_test_fmd, y_test_fmd, batch_size=batch_size))"
   ]
  },
  {
   "cell_type": "code",
   "execution_count": null,
   "metadata": {
    "colab": {
     "base_uri": "https://localhost:8080/"
    },
    "executionInfo": {
     "elapsed": 2644,
     "status": "ok",
     "timestamp": 1667652330026,
     "user": {
      "displayName": "li hy",
      "userId": "07968085488592641656"
     },
     "user_tz": -480
    },
    "id": "k5PqLvyzDZTg",
    "outputId": "f8c35a4d-4df8-46cd-c67a-957724dcae76"
   },
   "outputs": [
    {
     "name": "stdout",
     "output_type": "stream",
     "text": [
      "1/1 [==============================] - 0s 359ms/step - loss: 1.0592 - accuracy: 0.6970\n"
     ]
    },
    {
     "data": {
      "text/plain": [
       "[1.0591938495635986, 0.6969696879386902]"
      ]
     },
     "execution_count": 133,
     "metadata": {},
     "output_type": "execute_result"
    }
   ],
   "source": [
    "# evaluate on minc test data\n",
    "model_.evaluate(val_datagen.flow(x_test_minc, y_test_minc, batch_size=batch_size))"
   ]
  },
  {
   "cell_type": "code",
   "execution_count": null,
   "metadata": {
    "colab": {
     "base_uri": "https://localhost:8080/"
    },
    "executionInfo": {
     "elapsed": 1095,
     "status": "ok",
     "timestamp": 1667652331118,
     "user": {
      "displayName": "li hy",
      "userId": "07968085488592641656"
     },
     "user_tz": -480
    },
    "id": "oH2rx8ekt74V",
    "outputId": "6924f468-36d2-4f07-e17c-952be3f07b93"
   },
   "outputs": [
    {
     "name": "stdout",
     "output_type": "stream",
     "text": [
      "2/2 [==============================] - 3s 2s/step - loss: 0.8106 - accuracy: 0.7374\n"
     ]
    },
    {
     "data": {
      "text/plain": [
       "[0.8106236457824707, 0.7373737096786499]"
      ]
     },
     "execution_count": 134,
     "metadata": {},
     "output_type": "execute_result"
    }
   ],
   "source": [
    "# evaluate on minc + fmd test data\n",
    "x_test = np.concatenate((x_test_fmd, x_test_minc))\n",
    "y_test = np.concatenate((y_test_fmd, y_test_minc))\n",
    "\n",
    "model_.evaluate(val_datagen.flow(x_test, y_test, batch_size=batch_size))"
   ]
  },
  {
   "cell_type": "code",
   "execution_count": null,
   "metadata": {
    "id": "6Uoe_NEdub2G"
   },
   "outputs": [],
   "source": []
  }
 ],
 "metadata": {
  "colab": {
   "collapsed_sections": [],
   "provenance": [
    {
     "file_id": "1n7EDzu1SqToh81IstePN3ipnX8z5z0Cb",
     "timestamp": 1667528512627
    },
    {
     "file_id": "1rXFwXLoqfq7Smbx60liQfCIUhj35DkCj",
     "timestamp": 1666000587816
    }
   ]
  },
  "gpuClass": "standard",
  "kernelspec": {
   "display_name": "Python 3 (ipykernel)",
   "language": "python",
   "name": "python3"
  },
  "language_info": {
   "codemirror_mode": {
    "name": "ipython",
    "version": 3
   },
   "file_extension": ".py",
   "mimetype": "text/x-python",
   "name": "python",
   "nbconvert_exporter": "python",
   "pygments_lexer": "ipython3",
   "version": "3.7.3"
  }
 },
 "nbformat": 4,
 "nbformat_minor": 1
}
